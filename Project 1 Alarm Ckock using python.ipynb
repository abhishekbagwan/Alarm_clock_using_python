{
 "cells": [
  {
   "cell_type": "markdown",
   "id": "0f2086c0",
   "metadata": {},
   "source": [
    "<center>\n",
    "    <h1 style= \"background-color:purple; color:white; font-size:30px; font-weight:bold; font-family:Time New Roman; boder:2px solid black;\"> Task-1 - Build an Alarm Clock using Python </h1>\n",
    "    </center>\n"
   ]
  },
  {
   "cell_type": "markdown",
   "id": "47197ec0",
   "metadata": {},
   "source": [
    "->The objective of our project is to implement an alarm clock using Python.Python consists of some very innovative libraries such as datetime and tkinter which help us to build the project using the current date and time as well as to provide a user interface to set the alarm according to the requirement in 24-hour format.\n"
   ]
  },
  {
   "cell_type": "code",
   "execution_count": null,
   "id": "d23e4538",
   "metadata": {},
   "outputs": [],
   "source": [
    "# Import Required Library\n",
    "\n",
    "from tkinter import *\n",
    "import datetime\n",
    "import time\n",
    "import winsound\n",
    "from threading import *\n",
    "\n",
    "# Create Object\n",
    "\n",
    "root = Tk()\n",
    "\n",
    "# Set geometry\n",
    "\n",
    "root.geometry(\"400x200\")\n",
    "\n",
    "# Use Threading\n",
    "\n",
    "def Threading():\n",
    "    t1=Thread(target=alarm)\n",
    "    t1.start()\n",
    "\n",
    "def alarm():\n",
    "    # Infinite Loop\n",
    "    while True:\n",
    "        # Set Alarm\n",
    "        set_alarm_time = f\"{hour.get()}:{minute.get()}:{second.get()}\"\n",
    "\n",
    "        # Wait for one seconds\n",
    "        time.sleep(1)\n",
    "\n",
    "        # Get current time\n",
    "        current_time = datetime.datetime.now().strftime(\"%H:%M:%S\")\n",
    "        print(current_time,set_alarm_time)\n",
    "\n",
    "        # Check whether set alarm is equal to current time or not\n",
    "        if current_time == set_alarm_time:\n",
    "            print(\"Time to Wake up\")\n",
    "            # Playing sound\n",
    "            winsound.PlaySound(\"sound.wav\",winsound.SND_ASYNC)\n",
    "\n",
    "# Add Labels, Frame, Button, Optionmenus\n",
    "Label(root,text=\"Alarm Clock\",font=(\"Helvetica 20 bold\"),fg=\"purple\").pack(pady=10)\n",
    "Label(root,text=\"Set Time\",font=(\"Helvetica 15 bold\")).pack()\n",
    "\n",
    "frame = Frame(root)\n",
    "frame.pack()\n",
    "\n",
    "hour = StringVar(root)\n",
    "hours = ('00', '01', '02', '03', '04', '05', '06', '07',\n",
    "        '08', '09', '10', '11', '12', '13', '14', '15',\n",
    "        '16', '17', '18', '19', '20', '21', '22', '23', '24')\n",
    "hour.set(hours[0])\n",
    "\n",
    "hrs = OptionMenu(frame, hour, *hours)\n",
    "hrs.pack(side=LEFT)\n",
    "\n",
    "minute = StringVar(root)\n",
    "minutes = ('00', '01', '02', '03', '04', '05', '06', '07',\n",
    "'08', '09', '10', '11', '12', '13', '14', '15',\n",
    "'16', '17', '18', '19', '20', '21', '22', '23',\n",
    "'24', '25', '26', '27', '28', '29', '30', '31',\n",
    "'32', '33', '34', '35', '36', '37', '38', '39',\n",
    "'40', '41', '42', '43', '44', '45', '46', '47',\n",
    "'48', '49', '50', '51', '52', '53', '54', '55',\n",
    "'56', '57', '58', '59', '60')\n",
    "minute.set(minutes[0])\n",
    "\n",
    "mins = OptionMenu(frame, minute, *minutes)\n",
    "mins.pack(side=LEFT)\n",
    "\n",
    "second = StringVar(root)\n",
    "seconds = ('00', '01', '02', '03', '04', '05', '06', '07',\n",
    "'08', '09', '10', '11', '12', '13', '14', '15',\n",
    "'16', '17', '18', '19', '20', '21', '22', '23',\n",
    "'24', '25', '26', '27', '28', '29', '30', '31',\n",
    "'32', '33', '34', '35', '36', '37', '38', '39',\n",
    "'40', '41', '42', '43', '44', '45', '46', '47',\n",
    "'48', '49', '50', '51', '52', '53', '54', '55',\n",
    "'56', '57', '58', '59', '60')\n",
    "second.set(seconds[0])\n",
    "\n",
    "secs = OptionMenu(frame, second, *seconds)\n",
    "secs.pack(side=LEFT)\n",
    "\n",
    "Button(root,text=\"Set Alarm\",fg=\"white\",bg=\"green\",font=(\"Helvetica 15 bold\"),command=Threading).pack(pady=20)\n",
    "\n",
    "# Execute Tkinter\n",
    "root.mainloop()"
   ]
  },
  {
   "cell_type": "markdown",
   "id": "c22be649",
   "metadata": {},
   "source": [
    " <center>\n",
    "    <h1 style= \"background-color:yellow; color:black; font-size:30px; font-weight:bold; font-family:Time New Roman; boder:2px solid black;\"> THANK YOU </h1>\n",
    "    </center>\n"
   ]
  },
  {
   "cell_type": "code",
   "execution_count": null,
   "id": "87af38e3",
   "metadata": {},
   "outputs": [],
   "source": []
  }
 ],
 "metadata": {
  "kernelspec": {
   "display_name": "Python 3 (ipykernel)",
   "language": "python",
   "name": "python3"
  },
  "language_info": {
   "codemirror_mode": {
    "name": "ipython",
    "version": 3
   },
   "file_extension": ".py",
   "mimetype": "text/x-python",
   "name": "python",
   "nbconvert_exporter": "python",
   "pygments_lexer": "ipython3",
   "version": "3.9.13"
  }
 },
 "nbformat": 4,
 "nbformat_minor": 5
}
